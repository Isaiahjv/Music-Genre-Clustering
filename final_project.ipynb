{
 "cells": [
  {
   "cell_type": "markdown",
   "metadata": {},
   "source": [
    "# Final Project: Music Genre Clustering"
   ]
  },
  {
   "cell_type": "code",
   "execution_count": 1,
   "metadata": {},
   "outputs": [],
   "source": [
    "# the following packages can be used to extract features from audio data\n",
    "# from pyAudioAnalysis import audioBasicIO \n",
    "# from pyAudioAnalysis import ShortTermFeatures\n",
    "# import librosa\n",
    "# you may use other packages too."
   ]
  },
  {
   "cell_type": "markdown",
   "metadata": {},
   "source": [
    "Please use the given data (including the sound tracks and an additional feature file) to cluster the sound tracks. You may use any methods for feature engineering, but the clustering methods should be limited to the methods in this class. Do not hand label the tracks. Then generate the submission.json file for submission purposes. "
   ]
  },
  {
   "cell_type": "markdown",
   "metadata": {},
   "source": [
    "## Submission to leaderboard"
   ]
  },
  {
   "cell_type": "code",
   "execution_count": null,
   "metadata": {},
   "outputs": [],
   "source": [
    "# put your clustering result in labels\n",
    "# if you have k clusters, the labels should be a vector of elements taking values\n",
    "# from 0~ k-1\n",
    "\n",
    "import json\n",
    "\n",
    "submission = {}\n",
    "\n",
    "# change this to the url, which I will hand out later.\n",
    "submission['url'] = \"http://127.0.0.1:8384\"\n",
    "\n",
    "# change this to your group id, which I will hand out later.\n",
    "submission['vsID'] = \" \" \n",
    "\n",
    "submission['number_of_clusters'] = len(set(labels ))\n",
    "submission['labels'] = []\n",
    "for x in labels:\n",
    "    submission['labels'].append( int(x) )\n",
    "\n",
    "with open('submission.json', 'w') as outfile:\n",
    "    json.dump(submission, outfile)\n"
   ]
  },
  {
   "cell_type": "markdown",
   "metadata": {},
   "source": [
    "I will provide a submission tutorial session early next week. "
   ]
  }
 ],
 "metadata": {
  "kernelspec": {
   "display_name": "Python 3",
   "language": "python",
   "name": "python3"
  },
  "language_info": {
   "codemirror_mode": {
    "name": "ipython",
    "version": 3
   },
   "file_extension": ".py",
   "mimetype": "text/x-python",
   "name": "python",
   "nbconvert_exporter": "python",
   "pygments_lexer": "ipython3",
   "version": "3.6.6"
  }
 },
 "nbformat": 4,
 "nbformat_minor": 4
}
